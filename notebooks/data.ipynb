{
 "cells": [
  {
   "cell_type": "code",
   "execution_count": null,
   "metadata": {},
   "outputs": [],
   "source": [
    "!pip3 install convertbng==0.6.25"
   ]
  },
  {
   "cell_type": "code",
   "execution_count": null,
   "metadata": {},
   "outputs": [],
   "source": [
    "import json\n",
    "from convertbng.util import convert_lonlat"
   ]
  },
  {
   "cell_type": "code",
   "execution_count": null,
   "metadata": {},
   "outputs": [],
   "source": [
    "# Load the fixed reference data\n",
    "with open(\"./data/tiploc.json\") as tiploc_file:\n",
    "    tiploc_data = json.load(tiploc_file)\n",
    "\n",
    "with open(\"./data/corpus.json\") as corpus_file:\n",
    "    corpus_data = json.load(corpus_file)[\"TIPLOCDATA\"]\n",
    "\n",
    "with open(\"./data/smart.json\") as smart_file:\n",
    "    smart_data = json.load(smart_file)[\"BERTHDATA\"]"
   ]
  },
  {
   "cell_type": "code",
   "execution_count": null,
   "metadata": {},
   "outputs": [],
   "source": [
    "eastings = [int(data[\"EASTING\"]) for data in tiploc_data]\n",
    "northings = [int(data[\"EASTING\"]) for data in tiploc_data]\n",
    "lat_lon = convert_lonlat(eastings, northings)"
   ]
  },
  {
   "cell_type": "code",
   "execution_count": null,
   "metadata": {},
   "outputs": [],
   "source": [
    "output_data = {}\n",
    "\n",
    "for i, loc in enumerate(tiploc_data):  # We loop through all known locations\n",
    "    matched_corpus = list(filter(lambda x: x[\"TIPLOC\"] == loc[\"TIPLOC\"], corpus_data))\n",
    "    for corpus in matched_corpus:\n",
    "        matched_smart = list(filter(lambda x: x[\"STANOX\"] == corpus[\"STANOX\"], smart_data))\n",
    "        for smart in matched_smart:\n",
    "            if smart[\"STEPTYPE\"] == \"B\":   \n",
    "                set_data = {\n",
    "                    \"TD\": str(smart[\"TD\"]),  # Train describer area for the berth\n",
    "                    \"TIPLOC\": str(loc[\"TIPLOC\"]),  # TIPLOC code for the berth\n",
    "                    \"STANOX\": str(corpus[\"STANOX\"]),  # STANOX code for the berth\n",
    "                    \"STANME\": str(smart[\"STANME\"]),  # STANME code for the berth\n",
    "                    \"DESCRIPTION\": str(loc[\"NAME\"]),  # Description of the berth\n",
    "                    \"OFFSET\": str(smart[\"BERTHOFFSET\"]),  # event vs TRUST delta t\n",
    "                    \"PLATFORM\": str(smart[\"PLATFORM\"]),  # Platform for this berth\n",
    "                    \"EVENT\": str(smart[\"EVENT\"]),  # Event associated with this berth\n",
    "                    \"LONGITUDE\": lat_lon[0][i],  # Longitude of this berth\n",
    "                    \"LATITUDE\": lat_lon[1][i],  # Latitude of this berth\n",
    "                    \"FIXED\": True,  # This is a fixed berth in position\n",
    "                }\n",
    "                # Add arrival or departure dependent info\n",
    "                key = None\n",
    "                if str(smart[\"EVENT\"]) in [\"A\", \"C\"]:\n",
    "                    # A=Arrive Up, C=Arrive Down, therefore use TO berth\n",
    "                    set_data[\"BERTH\"] = str(smart[\"TOBERTH\"])\n",
    "                    set_data[\"LINE\"] = str(smart[\"TOLINE\"])\n",
    "                    key = str(smart[\"TD\"]) + str(smart[\"TOBERTH\"])\n",
    "                elif str(smart[\"EVENT\"]) in [\"B\", \"D\"]:\n",
    "                    # B=Depart Up, D=Depart Down, therefore use FROM berth\n",
    "                    set_data[\"BERTH\"] = str(smart[\"FROMBERTH\"])\n",
    "                    set_data[\"LINE\"] = str(smart[\"FROMLINE\"])\n",
    "                    key = str(smart[\"TD\"]) + str(smart[\"FROMBERTH\"])\n",
    "                else:\n",
    "                    continue\n",
    "\n",
    "                output_data[key] = set_data"
   ]
  },
  {
   "cell_type": "code",
   "execution_count": null,
   "metadata": {},
   "outputs": [],
   "source": [
    "with open('../src/collector/berths.json', 'w') as berths_file:\n",
    "    json.dump(output_data, berths_file)"
   ]
  },
  {
   "cell_type": "code",
   "execution_count": null,
   "metadata": {},
   "outputs": [],
   "source": []
  }
 ],
 "metadata": {
  "kernelspec": {
   "display_name": "Python 3",
   "language": "python",
   "name": "python3"
  },
  "language_info": {
   "codemirror_mode": {
    "name": "ipython",
    "version": 3
   },
   "file_extension": ".py",
   "mimetype": "text/x-python",
   "name": "python",
   "nbconvert_exporter": "python",
   "pygments_lexer": "ipython3",
   "version": "3.8.2"
  }
 },
 "nbformat": 4,
 "nbformat_minor": 4
}
